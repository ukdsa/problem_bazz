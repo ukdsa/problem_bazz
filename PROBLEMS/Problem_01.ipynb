{
 "cells": [
  {
   "cell_type": "markdown",
   "id": "eda0782f",
   "metadata": {},
   "source": [
    "\"\"\" If we list all the natural numbers below 10 that are multiples of 3 or 5, we get 3, 5, 6 and 9. The sum of these multiples is 23.\n",
    "\n",
    "Find the sum of all the multiples of 3 or 5 below 1000. link : https://projecteuler.net/problem=1 \"\"\""
   ]
  },
  {
   "cell_type": "code",
   "execution_count": 35,
   "id": "40eff006",
   "metadata": {},
   "outputs": [],
   "source": [
    "# -------------------------------------------------------------------------"
   ]
  },
  {
   "cell_type": "code",
   "execution_count": 54,
   "id": "b8a9c381",
   "metadata": {},
   "outputs": [
    {
     "name": "stdout",
     "output_type": "stream",
     "text": [
      "23\n",
      "time - > : 0.0010004043579101562\n"
     ]
    }
   ],
   "source": [
    "import time\n",
    "start = time.time()\n",
    "# try to find the answer......\n",
    "lst_num = []\n",
    "for i in range(1,10):\n",
    "    if i % 3 == 0 or i % 5 == 0 :\n",
    "        lst_num.append(i)\n",
    "print(sum(lst_num))\n",
    "end = time.time()\n",
    "print('time - > :' ,  end - start)"
   ]
  },
  {
   "cell_type": "code",
   "execution_count": 50,
   "id": "8a136a08",
   "metadata": {},
   "outputs": [],
   "source": [
    "# Now i put my code in a function to call when ever i want that\n",
    "# First way\n",
    "def sum_mul (n) :\n",
    "    lst_num = []\n",
    "    for num in range(1,n):\n",
    "        if num % 3 == 0 or num % 5 == 0 :\n",
    "            lst_num.append(num)\n",
    "    return sum(lst_num)\n"
   ]
  },
  {
   "cell_type": "code",
   "execution_count": 51,
   "id": "6417de65",
   "metadata": {},
   "outputs": [
    {
     "name": "stdout",
     "output_type": "stream",
     "text": [
      "23\n"
     ]
    }
   ],
   "source": [
    "print(sum_mul(10))"
   ]
  },
  {
   "cell_type": "code",
   "execution_count": 52,
   "id": "396fa6f2",
   "metadata": {},
   "outputs": [
    {
     "data": {
      "text/plain": [
       "233168"
      ]
     },
     "execution_count": 52,
     "metadata": {},
     "output_type": "execute_result"
    }
   ],
   "source": [
    "sum_mul(1000)"
   ]
  },
  {
   "cell_type": "code",
   "execution_count": 53,
   "id": "3a23178c",
   "metadata": {},
   "outputs": [
    {
     "name": "stdout",
     "output_type": "stream",
     "text": [
      "233168\n",
      "time - > : 0.0010082721710205078\n"
     ]
    }
   ],
   "source": [
    "# Second way\n",
    "start = time.time()\n",
    "print(sum(set(range(0, 1000, 3)) | set(range(0, 1000, 5))))\n",
    "end = time.time()\n",
    "print('time - > :' ,  end - start)"
   ]
  },
  {
   "cell_type": "code",
   "execution_count": 57,
   "id": "c641a6a0",
   "metadata": {},
   "outputs": [
    {
     "data": {
      "text/plain": [
       "False"
      ]
     },
     "execution_count": 57,
     "metadata": {},
     "output_type": "execute_result"
    }
   ],
   "source": [
    "0.0010004043579101562 > 0.0010082721710205078"
   ]
  },
  {
   "cell_type": "code",
   "execution_count": null,
   "id": "23802e49",
   "metadata": {},
   "outputs": [],
   "source": []
  }
 ],
 "metadata": {
  "kernelspec": {
   "display_name": "Python 3 (ipykernel)",
   "language": "python",
   "name": "python3"
  },
  "language_info": {
   "codemirror_mode": {
    "name": "ipython",
    "version": 3
   },
   "file_extension": ".py",
   "mimetype": "text/x-python",
   "name": "python",
   "nbconvert_exporter": "python",
   "pygments_lexer": "ipython3",
   "version": "3.10.10"
  }
 },
 "nbformat": 4,
 "nbformat_minor": 5
}
